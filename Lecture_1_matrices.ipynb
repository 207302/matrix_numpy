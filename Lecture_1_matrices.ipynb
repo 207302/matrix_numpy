{
 "cells": [
  {
   "cell_type": "markdown",
   "metadata": {},
   "source": [
    "### A matrix is rectangular array of numbers or functions which is enclosed in brackets."
   ]
  },
  {
   "cell_type": "code",
   "execution_count": 2,
   "metadata": {},
   "outputs": [
    {
     "data": {
      "text/plain": [
       "array([[1, 2, 3],\n",
       "       [4, 5, 6],\n",
       "       [7, 8, 9]])"
      ]
     },
     "execution_count": 2,
     "metadata": {},
     "output_type": "execute_result"
    }
   ],
   "source": [
    "## A =[1 2 3]...\n",
    "## examole of 3x3 matric as below\n",
    "import numpy as np\n",
    "\n",
    "mat1 = np.array([[1,2,3],[4,5,6],[7,8,9]])\n",
    "mat1"
   ]
  },
  {
   "cell_type": "markdown",
   "metadata": {},
   "source": [
    "### Addition of two matrices"
   ]
  },
  {
   "cell_type": "code",
   "execution_count": 3,
   "metadata": {},
   "outputs": [
    {
     "name": "stdout",
     "output_type": "stream",
     "text": [
      "[[1 2 3]\n",
      " [3 2 1]\n",
      " [7 8 9]]\n",
      "\n",
      "[[2 3 1]\n",
      " [1 4 1]\n",
      " [1 5 7]]\n"
     ]
    }
   ],
   "source": [
    "## Addition of two matrices \n",
    "## matrices must be same in size\n",
    "## Each element of mtrix added with corresponding element\n",
    "## following rules can be satisfy\n",
    "## if matrx A and B are in same size than 1. A+B =B + A, 2. c(A+B) = cA+cB, 3. (A+B)+C = A+(B+C), 4. (c+k)A = cA+kA\n",
    "## 5. A+0 = A, 6. c(kA) = (ck)A, 7. A+(-A) = 0, 8. 1A = A\n",
    "## let example A=[[1,2,3],[3,2,1],[7,8,9]]  and B = [[2,3,1],[1,4,1],[1,5,7]]\n",
    "\n",
    "A = np.array([[1,2,3],[3,2,1],[7,8,9]])\n",
    "\n",
    "B = np.array([[2,3,1],[1,4,1],[1,5,7]])\n",
    "\n",
    "C = np.array([[2,5,6],[3,7,6],[1,2,6]])\n",
    "\n",
    "print(A)\n",
    "print()\n",
    "print(B)"
   ]
  },
  {
   "cell_type": "code",
   "execution_count": 4,
   "metadata": {},
   "outputs": [
    {
     "name": "stdout",
     "output_type": "stream",
     "text": [
      "[[ True  True  True]\n",
      " [ True  True  True]\n",
      " [ True  True  True]]\n",
      "\n",
      "[[ 3  5  4]\n",
      " [ 4  6  2]\n",
      " [ 8 13 16]]\n",
      "\n",
      "[[ 3  5  4]\n",
      " [ 4  6  2]\n",
      " [ 8 13 16]]\n"
     ]
    }
   ],
   "source": [
    "## proof for 1. A+B = B+A\n",
    "\n",
    "AaddB = A + B\n",
    "BaddA = B + A\n",
    " \n",
    "print(AaddB == BaddA)  \n",
    "print()\n",
    "print(AaddB)\n",
    "print()\n",
    "print(BaddA)"
   ]
  },
  {
   "cell_type": "code",
   "execution_count": 5,
   "metadata": {},
   "outputs": [
    {
     "name": "stdout",
     "output_type": "stream",
     "text": [
      "[[1 2 3]\n",
      " [3 2 1]\n",
      " [7 8 9]]\n"
     ]
    }
   ],
   "source": [
    "## proof for 5. A+0 = A\n",
    "MAT_ZERO = A+0\n",
    "\n",
    "print(MAT_ZERO)"
   ]
  },
  {
   "cell_type": "code",
   "execution_count": 6,
   "metadata": {},
   "outputs": [
    {
     "name": "stdout",
     "output_type": "stream",
     "text": [
      "[[ True  True  True]\n",
      " [ True  True  True]\n",
      " [ True  True  True]]\n",
      "\n",
      "[[ 5 10 10]\n",
      " [ 7 13  8]\n",
      " [ 9 15 22]]\n",
      "\n",
      "[[ 5 10 10]\n",
      " [ 7 13  8]\n",
      " [ 9 15 22]]\n"
     ]
    }
   ],
   "source": [
    "## proof for 3. (A+B)+C = A+(B+C)\n",
    "\n",
    "Mat1abc = (A + B) + C\n",
    "Mat2abc = A + (B + C)\n",
    "\n",
    "print(Mat1abc == Mat2abc)\n",
    "print()\n",
    "print(Mat1abc)\n",
    "print()\n",
    "print(Mat2abc)"
   ]
  },
  {
   "cell_type": "markdown",
   "metadata": {},
   "source": [
    "### Multiplication of two matrices"
   ]
  },
  {
   "cell_type": "code",
   "execution_count": 7,
   "metadata": {},
   "outputs": [
    {
     "name": "stdout",
     "output_type": "stream",
     "text": [
      "[[ 7 26 24]\n",
      " [ 9 22 12]\n",
      " [31 98 78]]\n"
     ]
    }
   ],
   "source": [
    "## if two matrices Amxn and Bjxk for multiplication m must be equel to k(m=k) than only multiplication perform.\n",
    "## let example A=[[1,2,3],[3,2,1],[7,8,9]]  and B = [[2,3,1],[1,4,1],[1,5,7]]\n",
    "## 1. AB != BA\n",
    "\n",
    "A = np.array([[1,2,3],[3,2,1],[7,8,9]])\n",
    "\n",
    "B = np.array([[2,3,1],[1,4,1],[1,5,7]])\n",
    "\n",
    "C = np.array([[2,5,6],[3,7,6],[1,2,6]])\n",
    "\n",
    "\n",
    "Mul_AB = A.dot(B)\n",
    "\n",
    "print(Mul_AB)\n"
   ]
  },
  {
   "cell_type": "code",
   "execution_count": 8,
   "metadata": {},
   "outputs": [
    {
     "name": "stdout",
     "output_type": "stream",
     "text": [
      "A Multiply by B is \n",
      " [[ 7 26 24]\n",
      " [ 9 22 12]\n",
      " [31 98 78]]\n",
      "\n",
      "B Multiply by A is \n",
      " [[18 18 18]\n",
      " [20 18 16]\n",
      " [65 68 71]]\n"
     ]
    }
   ],
   "source": [
    "# proof for 1. AB != BA\n",
    "## multilpication of AB is not equel multiplcation of BA\n",
    "Mul_AB = A.dot(B)\n",
    "Mul_BA = B.dot(A)\n",
    "\n",
    "print(\"A Multiply by B is \\n\",Mul_AB)\n",
    "print()\n",
    "print(\"B Multiply by A is \\n\",Mul_BA)"
   ]
  },
  {
   "cell_type": "markdown",
   "metadata": {},
   "source": [
    "### Transpose of A matrix"
   ]
  },
  {
   "cell_type": "code",
   "execution_count": 9,
   "metadata": {},
   "outputs": [],
   "source": [
    "## Transpose of matrix means either rows interchange with columns or viceversa\n",
    "## Suppose we have a matrix A as below\n",
    "A = np.array([[1,2,3],[3,2,1],[7,8,9]])"
   ]
  },
  {
   "cell_type": "code",
   "execution_count": 10,
   "metadata": {},
   "outputs": [
    {
     "name": "stdout",
     "output_type": "stream",
     "text": [
      "Mat A =\n",
      " [[1 2 3]\n",
      " [3 2 1]\n",
      " [7 8 9]]\n",
      "\n",
      "Transpose of Mat A =\n",
      " [[1 3 7]\n",
      " [2 2 8]\n",
      " [3 1 9]]\n"
     ]
    }
   ],
   "source": [
    "TranOfA = np.transpose(A)\n",
    "print(\"Mat A =\\n\",A)\n",
    "print()\n",
    "print(\"Transpose of Mat A =\\n\",TranOfA)"
   ]
  },
  {
   "cell_type": "markdown",
   "metadata": {},
   "source": [
    "### Symmetric matrix"
   ]
  },
  {
   "cell_type": "code",
   "execution_count": 11,
   "metadata": {},
   "outputs": [
    {
     "name": "stdout",
     "output_type": "stream",
     "text": [
      "[[ 1  7  3]\n",
      " [ 7  4 -5]\n",
      " [ 3 -5  6]]\n",
      "\n",
      "[[ 1  7  3]\n",
      " [ 7  4 -5]\n",
      " [ 3 -5  6]]\n",
      "\n",
      "[[ True  True  True]\n",
      " [ True  True  True]\n",
      " [ True  True  True]]\n"
     ]
    }
   ],
   "source": [
    "## A matrix which is equalt it's transpose. matrix A = transpose of A.\n",
    "## Example A=[[1,7,3],[7,4,-5],[3,-5,6]] is symmetric matrix\n",
    "## proof for A matrix is symmetric matrix\n",
    "\n",
    "A = np.array([[1,7,3],[7,4,-5],[3,-5,6]])\n",
    "\n",
    "TransOfA = np.transpose(A)\n",
    "\n",
    "print(A)\n",
    "print()\n",
    "print(TransOfA)\n",
    "\n",
    "print()\n",
    "print(A == TransOfA)"
   ]
  },
  {
   "cell_type": "markdown",
   "metadata": {},
   "source": [
    "## Skew symmetric matrix"
   ]
  },
  {
   "cell_type": "code",
   "execution_count": 12,
   "metadata": {},
   "outputs": [
    {
     "name": "stdout",
     "output_type": "stream",
     "text": [
      "[[  0   2 -45]\n",
      " [ -2   0  -4]\n",
      " [ 45   4   0]]\n",
      "\n",
      "[[  0  -2  45]\n",
      " [  2   0   4]\n",
      " [-45  -4   0]]\n",
      "\n",
      "[[ True  True  True]\n",
      " [ True  True  True]\n",
      " [ True  True  True]]\n"
     ]
    }
   ],
   "source": [
    "## A matrix is called skew symmetric matrix if Matrix A = -(transpose of A)\n",
    "## Example A = ([[0,2,-45],[-2,0,-4],[45,4,0]])\n",
    "## proof for A skew smmetric matrix\n",
    "\n",
    "A = np.array([[0,2,-45],[-2,0,-4],[45,4,0]])\n",
    "\n",
    "TransposeOfA = np.transpose(A)\n",
    "\n",
    "print(A)\n",
    "print()\n",
    "print(TransposeOfA)\n",
    "print()\n",
    "print(A == -(TransposeOfA))"
   ]
  },
  {
   "cell_type": "markdown",
   "metadata": {},
   "source": [
    "### Determinant of a Matrix "
   ]
  },
  {
   "cell_type": "code",
   "execution_count": 13,
   "metadata": {},
   "outputs": [
    {
     "name": "stdout",
     "output_type": "stream",
     "text": [
      "-5.000000000000001\n",
      "\n",
      "-5\n"
     ]
    }
   ],
   "source": [
    "##The determinant of a matrix is a special number that can be calculated from a square matrix.\n",
    "##It is used to find the inverse of matrix and system of a linear equation\n",
    "\n",
    "A=[[1,3],[2,1]]\n",
    "\n",
    "DeterminatOfA = np.linalg.det(A)\n",
    "\n",
    "print(DeterminatOfA)\n",
    "print()\n",
    "print(int(DeterminatOfA))"
   ]
  },
  {
   "cell_type": "code",
   "execution_count": 14,
   "metadata": {},
   "outputs": [
    {
     "name": "stdout",
     "output_type": "stream",
     "text": [
      "[ 5.  3. -2.]\n"
     ]
    }
   ],
   "source": [
    "A = np.array([[4, 3, 2], [-2, 2, 3], [3, -5, 2]])\n",
    "B = np.array([25, -10, -4])\n",
    "X2 = np.linalg.solve(A,B)\n",
    "\n",
    "print(X2)"
   ]
  },
  {
   "cell_type": "markdown",
   "metadata": {},
   "source": [
    "### Cramer’s Rule\n"
   ]
  },
  {
   "cell_type": "code",
   "execution_count": 15,
   "metadata": {},
   "outputs": [],
   "source": [
    "##Cramer’s Rule uses determinants to solve for a solution to the equation Ax=b, when A is a square matrix\n",
    "##Use Cramer’s Rule to solve for a single variable in a system of linear equation.\n",
    "##Example 3x1 + x2 = 4 and 2x1 + x2 = 3 find the solution for x1 and x2.\n",
    "\n",
    "## matrix A = [[3,1],[2,1]] and B = [[4,3]]\n",
    "\n",
    "A = np.array([[3,1],[2,1]])\n",
    "B = np.array([4,3])\n",
    "\n"
   ]
  },
  {
   "cell_type": "code",
   "execution_count": 16,
   "metadata": {},
   "outputs": [
    {
     "name": "stdout",
     "output_type": "stream",
     "text": [
      "[1. 1.]\n"
     ]
    }
   ],
   "source": [
    "sol = np.linalg.solve(A,B)\n",
    "\n",
    "print(sol)"
   ]
  },
  {
   "cell_type": "code",
   "execution_count": 17,
   "metadata": {},
   "outputs": [
    {
     "name": "stdout",
     "output_type": "stream",
     "text": [
      "[10. 15.]\n"
     ]
    }
   ],
   "source": [
    "## Next example 20x + 10y = 350 and 17x + 22y = 500\n",
    "\n",
    "A = np.array([[20, 10], [17, 22]])\n",
    "B = np.array([350, 500])\n",
    "X = np.linalg.solve(A,B)\n",
    "\n",
    "print(X)"
   ]
  },
  {
   "cell_type": "markdown",
   "metadata": {},
   "source": [
    "### Inverse of a Matrx"
   ]
  },
  {
   "cell_type": "code",
   "execution_count": 18,
   "metadata": {},
   "outputs": [
    {
     "name": "stdout",
     "output_type": "stream",
     "text": [
      "[[ 0.06 -0.07]\n",
      " [-0.02  0.04]]\n"
     ]
    }
   ],
   "source": [
    "##matrix don't have divide operation so same we have to use inverse\n",
    "## A.invers(A) = I\n",
    "\n",
    "A = [[40,70],[20,60]]\n",
    "\n",
    "MatA = np.array(A)\n",
    "\n",
    "InvA = np.linalg.inv(A)\n",
    "\n",
    "print(InvA)"
   ]
  },
  {
   "cell_type": "code",
   "execution_count": 19,
   "metadata": {},
   "outputs": [
    {
     "name": "stdout",
     "output_type": "stream",
     "text": [
      "[[1. 0.]\n",
      " [0. 1.]]\n"
     ]
    }
   ],
   "source": [
    "## proof A.inverse(A) = I, I is unit or identity matrix\n",
    "\n",
    "I = MatA.dot(InvA)\n",
    "\n",
    "print(I)"
   ]
  },
  {
   "cell_type": "code",
   "execution_count": 20,
   "metadata": {},
   "outputs": [
    {
     "name": "stdout",
     "output_type": "stream",
     "text": [
      "2\n"
     ]
    }
   ],
   "source": [
    "x = np.linalg.matrix_rank(I)\n",
    "\n",
    "print(x)"
   ]
  },
  {
   "cell_type": "markdown",
   "metadata": {},
   "source": [
    "### Rank Of a Matrix"
   ]
  },
  {
   "cell_type": "markdown",
   "metadata": {},
   "source": [
    "The rank of a matrix is defined as \n",
    "(a) the maximum number of linearly independent column vectors in the matrix or \n",
    "(b) the maximum number of linearly independent row vectors in the matrix. Both definitions are equivalent.\n",
    "\n",
    "For an r x c matrix,\n",
    "\n",
    "If r is less than c, then the maximum rank of the matrix is r.\n",
    "If r is greater than c, then the maximum rank of the matrix is c.\n",
    "The rank of a matrix would be zero only if the matrix had no elements. If a matrix had even one element, its minimum rank would be one."
   ]
  },
  {
   "cell_type": "code",
   "execution_count": 21,
   "metadata": {},
   "outputs": [
    {
     "name": "stdout",
     "output_type": "stream",
     "text": [
      "Rank of matrix A is :  3\n"
     ]
    }
   ],
   "source": [
    "A = [[1,2,3],[4,6,7],[1,0,1]]\n",
    "rankOfA = np.linalg.matrix_rank(A)\n",
    "\n",
    "print(\"Rank of matrix A is : \", rankOfA)"
   ]
  },
  {
   "cell_type": "markdown",
   "metadata": {},
   "source": [
    "### Homogeneous systems "
   ]
  },
  {
   "cell_type": "markdown",
   "metadata": {},
   "source": [
    "\n",
    "\n",
    "A system of linear equations is homogeneous if all of the constant terms are zero:\n",
    "\n",
    "ex. 2X+5Y = 0, 4X-8Y = 0.\n",
    "\n",
    "\n",
    "Homogeneous solution set\n",
    "Every homogeneous system has at least one solution, known as the zero (or trivial) solution, which is obtained by assigning the value of zero to each of the variables. If the system has a non-singular matrix (det(A) ≠ 0) then it is also the only solution. If the system has a singular matrix then there is a solution set with an infinite number of solutions. This solution set has the following additional properties:\n",
    "\n",
    "If u and v are two vectors representing solutions to a homogeneous system, then the vector sum u + v is also a solution to the system.\n",
    "If u is a vector representing a solution to a homogeneous system, and r is any scalar, then ru is also a solution to the system.\n",
    "These are exactly the properties required for the solution set to be a linear subspace of Rn. In particular, the solution set to a homogeneous system is the same as the null space of the corresponding matrix A. Numerical solutions to a homogeneous system can be found with a singular value decomposition."
   ]
  },
  {
   "cell_type": "code",
   "execution_count": 22,
   "metadata": {},
   "outputs": [
    {
     "name": "stdout",
     "output_type": "stream",
     "text": [
      "[0. 0. 0.]\n"
     ]
    }
   ],
   "source": [
    "##for above example A = [[2,5],[4,-8]], B = [0,0]\n",
    "A = [[2,5,4],[4,-8,1],[3,5,1]]\n",
    "B = [0,0,0]\n",
    "\n",
    "solution_of_A = np.linalg.solve(A,B)\n",
    "\n",
    "print(solution_of_A)"
   ]
  },
  {
   "cell_type": "code",
   "execution_count": 23,
   "metadata": {},
   "outputs": [
    {
     "name": "stdout",
     "output_type": "stream",
     "text": [
      "[ 0. -0.]\n"
     ]
    }
   ],
   "source": [
    "## Example x-y = 0, 2x+y = 0\n",
    "\n",
    "A =[[1,-1],[2,1]]\n",
    "B =[0,0]\n",
    "\n",
    "solutionOfA = np.linalg.solve(A,B)\n",
    "\n",
    "print(solutionOfA)"
   ]
  },
  {
   "cell_type": "code",
   "execution_count": 24,
   "metadata": {},
   "outputs": [
    {
     "name": "stdout",
     "output_type": "stream",
     "text": [
      "0.0\n"
     ]
    }
   ],
   "source": [
    "MAT1 = [[-1,1,4],[1,3,8],[0.5,1,2.5]]\n",
    "MAT2 = [0,0,0]\n",
    "\n",
    "#sol = np.linalg.solve(MAT1,MAT)\n",
    "\n",
    "det = np.linalg.det(MAT1)\n",
    "## when homogeneous matrix having determinat zero itmeans system having infinite solution.\n",
    "print(det)"
   ]
  },
  {
   "cell_type": "markdown",
   "metadata": {},
   "source": [
    "## Home work solution"
   ]
  },
  {
   "cell_type": "code",
   "execution_count": 31,
   "metadata": {},
   "outputs": [
    {
     "name": "stdout",
     "output_type": "stream",
     "text": [
      "[[28823037615171175 28823037615171174]\n",
      " [43234556422756761 43234556422756762]]\n",
      "CPU times: user 380 µs, sys: 96 µs, total: 476 µs\n",
      "Wall time: 422 µs\n"
     ]
    }
   ],
   "source": [
    "%%time\n",
    "#problem - 2\n",
    "##solve in three steps 2, 4, 28 \n",
    "MatA= np.array([[1,2],[3,2]])\n",
    "#square of matrix\n",
    "mat = MatA.dot(MatA)\n",
    "#power 4 of matrix\n",
    "mat4 = mat.dot(mat)\n",
    "#power 28 of matrix\n",
    "mat28 = np.linalg.matrix_power(mat4,7)\n",
    "\n",
    "print(mat28)\n"
   ]
  },
  {
   "cell_type": "code",
   "execution_count": 32,
   "metadata": {},
   "outputs": [
    {
     "name": "stdout",
     "output_type": "stream",
     "text": [
      "[[28823037615171175 28823037615171174]\n",
      " [43234556422756761 43234556422756762]]\n",
      "CPU times: user 456 µs, sys: 102 µs, total: 558 µs\n",
      "Wall time: 498 µs\n"
     ]
    }
   ],
   "source": [
    "##solve in 1- step but it's taking more time than above solution\n",
    "%%time\n",
    "MatA= np.array([[1,2],[3,2]])\n",
    "mul28 = np.linalg.matrix_power(MatA,28)\n",
    "\n",
    "print(mul28)"
   ]
  },
  {
   "cell_type": "code",
   "execution_count": 33,
   "metadata": {},
   "outputs": [
    {
     "name": "stdout",
     "output_type": "stream",
     "text": [
      "[[ True  True]\n",
      " [ True  True]]\n"
     ]
    }
   ],
   "source": [
    "##check the solution's value\n",
    "print(mat28 == mul28)"
   ]
  },
  {
   "cell_type": "code",
   "execution_count": 96,
   "metadata": {},
   "outputs": [
    {
     "name": "stdout",
     "output_type": "stream",
     "text": [
      "2\n"
     ]
    }
   ],
   "source": [
    "#problem - 1\n",
    "\n",
    "ran = [[1,0],[2,1],[1,0]]\n",
    "\n",
    "rankOF = np.linalg.matrix_rank(ran)\n",
    "\n",
    "print(rankOF)"
   ]
  },
  {
   "cell_type": "code",
   "execution_count": null,
   "metadata": {},
   "outputs": [],
   "source": []
  }
 ],
 "metadata": {
  "kernelspec": {
   "display_name": "Python 3",
   "language": "python",
   "name": "python3"
  },
  "language_info": {
   "codemirror_mode": {
    "name": "ipython",
    "version": 3
   },
   "file_extension": ".py",
   "mimetype": "text/x-python",
   "name": "python",
   "nbconvert_exporter": "python",
   "pygments_lexer": "ipython3",
   "version": "3.7.4"
  }
 },
 "nbformat": 4,
 "nbformat_minor": 2
}
